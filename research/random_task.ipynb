{
 "cells": [
  {
   "cell_type": "code",
   "execution_count": 1,
   "id": "0c27da2c",
   "metadata": {},
   "outputs": [
    {
     "name": "stdout",
     "output_type": "stream",
     "text": [
      "Empty DataFrame\n",
      "Columns: [代码, 一级行政区, 二级行政区, 名称, 级别, 状态, 启用时间, 变更（弃用）时间, 新代码]\n",
      "Index: []\n"
     ]
    }
   ],
   "source": [
    "import pandas as pd\n",
    "\n",
    "# 读取 CSV 文件，文件位于上级目录\n",
    "df = pd.read_csv('../result.csv', dtype=str)\n",
    "\n",
    "# 筛选 “状态” 为 “弃用” 或 “变更”\n",
    "mask_status = df['状态'].isin(['弃用', '变更'])\n",
    "\n",
    "# 筛选 “变更（弃用）时间” 为空（NaN 或 空字符串）\n",
    "mask_time_empty = df['变更（弃用）时间'].isna() | (df['变更（弃用）时间'] == '')\n",
    "\n",
    "# 应用两个条件并打印结果\n",
    "filtered = df[mask_status & mask_time_empty]\n",
    "print(filtered)\n"
   ]
  }
 ],
 "metadata": {
  "kernelspec": {
   "display_name": "myenv",
   "language": "python",
   "name": "python3"
  },
  "language_info": {
   "codemirror_mode": {
    "name": "ipython",
    "version": 3
   },
   "file_extension": ".py",
   "mimetype": "text/x-python",
   "name": "python",
   "nbconvert_exporter": "python",
   "pygments_lexer": "ipython3",
   "version": "3.9.19"
  }
 },
 "nbformat": 4,
 "nbformat_minor": 5
}
